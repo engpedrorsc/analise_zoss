{
 "cells": [
  {
   "cell_type": "markdown",
   "source": [
    "# OBJETIVO\n",
    "* Análise exploratória dos dados com os seguintes fins:\n",
    "    * Identificação das localidades onde cada modelo tem os maiores preços\n",
    "    * Verificação da quilometragem ótima de venda"
   ],
   "metadata": {}
  },
  {
   "cell_type": "markdown",
   "source": [
    "# Carregamento de pacotes"
   ],
   "metadata": {}
  },
  {
   "cell_type": "code",
   "execution_count": null,
   "source": [
    "import pandas as pd\n",
    "import numpy as np\n",
    "from matplotlib import pyplot as plt\n",
    "import seaborn as sns\n",
    "import warnings"
   ],
   "outputs": [],
   "metadata": {}
  },
  {
   "cell_type": "markdown",
   "source": [
    "# Configuração do notebook"
   ],
   "metadata": {}
  },
  {
   "cell_type": "code",
   "execution_count": null,
   "source": [
    "warnings.filterwarnings('ignore')\n",
    "%matplotlib inline"
   ],
   "outputs": [],
   "metadata": {}
  },
  {
   "cell_type": "markdown",
   "source": [
    "# Funções"
   ],
   "metadata": {}
  },
  {
   "cell_type": "code",
   "execution_count": null,
   "source": [
    "# Função para montagem do histograma\n",
    "def show_outliers_boxplots(df, info):\n",
    "    Q1 = df[info].quantile(0.25)\n",
    "    Q3 = df[info].quantile(0.75)\n",
    "    IQR = Q3 - Q1\n",
    "    lower_lim = Q1 - 1.5 * IQR\n",
    "    upper_lim = Q3 + 1.5 * IQR\n",
    "    ancor = ' -> 0' if lower_lim < 0 else ''\n",
    "    print(f'lower limit = {lower_lim}{ancor}')\n",
    "    print(f'upper limit = {upper_lim}')\n",
    "    limits = [lower_lim, upper_lim]\n",
    "    df_clean = df[(df[info] >= lower_lim) & (df[info] <= upper_lim)]\n",
    "\n",
    "    fig, axis = plt.subplots(nrows=2)\n",
    "    plt.subplots_adjust(hspace = 1)\n",
    "    sns.boxplot(df_clean[info], ax=axis[0]).set_title('COM outliers')\n",
    "    sns.boxplot(df_clean[info], ax=axis[1]).set_title('SEM outliers')\n",
    "    plt.show()\n",
    "\n",
    "    return limits, df_clean\n",
    "\n",
    "\n",
    "def plot(df, info, type = 'lineplot', sort=False, xtick_rotation=30, color='lightblue'):\n",
    "    fig, ax = plt.subplots()\n",
    "    if sort:\n",
    "        df_sorted = df.sort_values(by=info)\n",
    "    else:\n",
    "        df_sorted = df\n",
    "    exec(f\"sns.{type}(df_sorted.index, df_sorted[info], color='{color}')\")\n",
    "    plt.xticks(rotation=xtick_rotation, ha='right')\n",
    "    plt.show()\n",
    "\n",
    "\n",
    "def relative_value(df, base_index, info):\n",
    "    base_value = df[info][base_index]\n",
    "    col_name = f'{info}_DiferençaRelativa{base_index}_(%)'\n",
    "    df[col_name] = (df[info]/base_value)*100 -100\n",
    "    return df, col_name\n"
   ],
   "outputs": [],
   "metadata": {}
  },
  {
   "cell_type": "markdown",
   "source": [
    "# Carregamento da base de dados"
   ],
   "metadata": {}
  },
  {
   "cell_type": "code",
   "execution_count": null,
   "source": [
    "df_full = pd.read_csv('base_tratada.csv')\n",
    "df_full.info()"
   ],
   "outputs": [],
   "metadata": {}
  },
  {
   "cell_type": "code",
   "execution_count": null,
   "source": [
    "df_full.drop('Unnamed: 0', axis=1, inplace=True)\n",
    "df_full['VolumeMotor'] = df_full['VolumeMotor'].apply(str)\n",
    "df_full.info()"
   ],
   "outputs": [],
   "metadata": {}
  },
  {
   "cell_type": "markdown",
   "source": [
    "# Coleta de amostra da base de dados"
   ],
   "metadata": {}
  },
  {
   "cell_type": "code",
   "execution_count": null,
   "source": [
    "df = df_full\n",
    "# df = df_full.head(10)\n",
    "# df = df_full.sample(50)\n",
    "\n",
    "df.head()"
   ],
   "outputs": [],
   "metadata": {}
  },
  {
   "cell_type": "markdown",
   "source": [
    "# Análise dos dados com base no modelo"
   ],
   "metadata": {}
  },
  {
   "cell_type": "code",
   "execution_count": null,
   "source": [
    "models = np.sort(df['Modelo'].unique())\n",
    "\n",
    "print('MODELOS')\n",
    "print(models)"
   ],
   "outputs": [],
   "metadata": {}
  },
  {
   "cell_type": "code",
   "execution_count": null,
   "source": [
    "# Escolha do modelo a ser analisado\n",
    "model_choice = ['S10']\n",
    "\n",
    "df_filtered = df[df['Modelo'].isin(model_choice)]\n",
    "df_filtered"
   ],
   "outputs": [],
   "metadata": {}
  },
  {
   "cell_type": "code",
   "execution_count": null,
   "source": [
    "# Oções de combustível\n",
    "fuels = np.sort(df_filtered['Combustivel'].unique())\n",
    "\n",
    "print('COMBUSTÍVEIS')\n",
    "print(fuels)"
   ],
   "outputs": [],
   "metadata": {}
  },
  {
   "cell_type": "code",
   "execution_count": null,
   "source": [
    "fuel_choice = ['DIESEL']\n",
    "\n",
    "df_fuel_filtered = df_filtered[df['Combustivel'].isin(fuel_choice)]\n",
    "df_fuel_filtered"
   ],
   "outputs": [],
   "metadata": {}
  },
  {
   "cell_type": "markdown",
   "source": [
    "# Análise de outliers"
   ],
   "metadata": {}
  },
  {
   "cell_type": "code",
   "execution_count": null,
   "source": [
    "# Outliers de quilometragem\n",
    "info = 'Quilometragem'\n",
    "limits_km = show_outliers_boxplots(df_fuel_filtered, info)\n",
    "df_fuel_filtered = limits_km[1] # retira os outliers de km da base"
   ],
   "outputs": [],
   "metadata": {}
  },
  {
   "cell_type": "code",
   "execution_count": null,
   "source": [
    "# Outliers de preço anunciado\n",
    "\n",
    "info = 'PrecoAnuncio'\n",
    "limits_price = show_outliers_boxplots(df_fuel_filtered, info)\n",
    "df_fuel_filtered = limits_price[1] # retira os outliers de preço da base\n"
   ],
   "outputs": [],
   "metadata": {}
  },
  {
   "cell_type": "markdown",
   "source": [
    "# Análise influência das versões e do ano do modelo sobre o preço"
   ],
   "metadata": {}
  },
  {
   "cell_type": "code",
   "execution_count": null,
   "source": [
    "df_fuel_filtered.head()"
   ],
   "outputs": [],
   "metadata": {}
  },
  {
   "cell_type": "code",
   "execution_count": null,
   "source": [
    "group = 'Descricao'\n",
    "info = 'PrecoAnuncio'\n",
    "df_group = df_fuel_filtered.groupby([group]).mean()\n",
    "plot(df_group, info, sort=True, type='barplot')"
   ],
   "outputs": [],
   "metadata": {}
  },
  {
   "cell_type": "code",
   "execution_count": null,
   "source": [
    "group = 'AnoModelo'\n",
    "info = 'PrecoAnuncio'\n",
    "df_group = df_fuel_filtered.groupby([group]).mean()\n",
    "plot(df_group, info, type='barplot')"
   ],
   "outputs": [],
   "metadata": {}
  },
  {
   "cell_type": "markdown",
   "source": [
    "# Análise da variação de preço por estado"
   ],
   "metadata": {}
  },
  {
   "cell_type": "code",
   "execution_count": null,
   "source": [
    "# Variação de preço por estado\n",
    "base_index = 'RJ' # Estado referência para cálculo do preço relativo\n",
    "\n",
    "group = 'Estado'\n",
    "info = 'PrecoAnuncio'\n",
    "df_group = df_fuel_filtered.groupby([group]).mean()\n",
    "\n",
    "df_relative = df_group\n",
    "(df_relative_price, relative_price_col) = relative_value(df_relative, base_index, info)\n",
    "\n",
    "plot(df_relative_price, relative_price_col, type='barplot', sort=True, xtick_rotation=90)"
   ],
   "outputs": [],
   "metadata": {}
  },
  {
   "cell_type": "markdown",
   "source": [
    "# Análise da variação de preço por tipo de transmissão"
   ],
   "metadata": {}
  },
  {
   "cell_type": "code",
   "execution_count": null,
   "source": [
    "# Verificação dos tipos de transmissão disponíveis e cálculo das médias\n",
    "group = 'Trasmissao'\n",
    "info = 'PrecoAnuncio'\n",
    "df_group = df_fuel_filtered.groupby([group]).mean()\n",
    "print(df_group.index.values)"
   ],
   "outputs": [],
   "metadata": {}
  },
  {
   "cell_type": "code",
   "execution_count": null,
   "source": [
    "# Variação de preço por tipo de transmissão\n",
    "base_index = 'MANUAL' # Escolha do tipo de transmissão de referência\n",
    "\n",
    "df_relative = df_group\n",
    "(df_relative_price, relative_price_col) = relative_value(df_relative, base_index, info)\n",
    "\n",
    "plot(df_relative_price, relative_price_col, type='barplot', sort=True)"
   ],
   "outputs": [],
   "metadata": {}
  },
  {
   "cell_type": "markdown",
   "source": [
    "# Análise da relação do preço com a quilometragem\n",
    "## Como esta análise trata de diferenças de peço mais sutis, é relevante analisar cada versão do modelo escolhido separadamente"
   ],
   "metadata": {}
  },
  {
   "cell_type": "code",
   "execution_count": null,
   "source": [
    "km_min = df_fuel_filtered['Quilometragem'].min()\n",
    "km_max = df_fuel_filtered['Quilometragem'].max()\n",
    "print(km_min)\n",
    "print(km_max)"
   ],
   "outputs": [],
   "metadata": {}
  },
  {
   "cell_type": "code",
   "execution_count": null,
   "source": [
    "km_bins = [0]\n",
    "interval = 10000\n",
    "\n",
    "km_initial = km_bins[0]\n",
    "while km_initial <= km_max:\n",
    "    km_bins.append(max(km_bins) + interval)\n",
    "    km_initial = max(km_bins)\n",
    "\n",
    "km_bins_labels = []\n",
    "for i in range(0, len(km_bins)-1):\n",
    "    km_bins_labels.append(f'{int(km_bins[i]/1000)} - {int(km_bins[i+1]/1000)}')\n",
    "km_bins_labels"
   ],
   "outputs": [],
   "metadata": {}
  },
  {
   "cell_type": "code",
   "execution_count": null,
   "source": [
    "model_versions = df_fuel_filtered['Descricao'].unique()\n",
    "model_versions"
   ],
   "outputs": [],
   "metadata": {}
  },
  {
   "cell_type": "code",
   "execution_count": null,
   "source": [
    "df_price_by_km = pd.DataFrame()\n",
    "df_price_by_km.index = model_versions\n",
    "# df_price_by_km"
   ],
   "outputs": [],
   "metadata": {}
  },
  {
   "cell_type": "code",
   "execution_count": null,
   "source": [
    "for i in range(0, len(km_bins_labels)):\n",
    "    means = []\n",
    "    for version in model_versions:\n",
    "        mean = df_fuel_filtered[(df_fuel_filtered['Descricao'] == version) &\n",
    "                           (df_fuel_filtered['Quilometragem'] >= km_bins[i]) &\n",
    "                           (df_fuel_filtered['Quilometragem'] < km_bins[i + 1])].mean()['PrecoAnuncio']\n",
    "        means.append(mean)    \n",
    "    df_price_by_km[km_bins_labels[i]] = means\n",
    "\n",
    "# df_price_by_km"
   ],
   "outputs": [],
   "metadata": {}
  },
  {
   "cell_type": "code",
   "execution_count": null,
   "source": [
    "fig, ax = plt.subplots(figsize=(15,10))\n",
    "sns.lineplot(data = df_price_by_km.transpose(), palette='dark')\n",
    "plt.legend(bbox_to_anchor=(1.02, 1), loc='upper left', borderaxespad=0)\n",
    "plt.title('Preço x Quilometragem')\n",
    "plt.xlabel('Mil Quilômetros')\n",
    "plt.ylabel('reço (R$)')\n",
    "plt.xticks(rotation=30, ha='right')\n",
    "plt.show()"
   ],
   "outputs": [],
   "metadata": {}
  }
 ],
 "metadata": {
  "orig_nbformat": 4,
  "language_info": {
   "name": "python",
   "version": "3.9.5",
   "mimetype": "text/x-python",
   "codemirror_mode": {
    "name": "ipython",
    "version": 3
   },
   "pygments_lexer": "ipython3",
   "nbconvert_exporter": "python",
   "file_extension": ".py"
  },
  "kernelspec": {
   "name": "python3",
   "display_name": "Python 3.9.5 64-bit ('analise_zoss': venv)"
  },
  "interpreter": {
   "hash": "342d52c5a0b647acc5479d753cd731fd386b328398db8ba05ed35718a4bad500"
  }
 },
 "nbformat": 4,
 "nbformat_minor": 2
}