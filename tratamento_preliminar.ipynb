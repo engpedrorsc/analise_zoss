{
 "cells": [
  {
   "cell_type": "markdown",
   "source": [
    "# Carregamento de pacotes"
   ],
   "metadata": {}
  },
  {
   "cell_type": "code",
   "execution_count": null,
   "source": [
    "import numpy as np\n",
    "import pandas as pd\n",
    "import warnings"
   ],
   "outputs": [],
   "metadata": {}
  },
  {
   "cell_type": "markdown",
   "source": [
    "# Configuração do notebook"
   ],
   "metadata": {}
  },
  {
   "cell_type": "code",
   "execution_count": null,
   "source": [
    "warnings.filterwarnings('ignore')"
   ],
   "outputs": [],
   "metadata": {}
  },
  {
   "cell_type": "markdown",
   "source": [
    "# Funções"
   ],
   "metadata": {}
  },
  {
   "cell_type": "code",
   "execution_count": null,
   "source": [
    "# Remove o modelo da descrição se estiver repetido\n",
    "def strip_string_with_prefix_from_text(text, prefix, string):\n",
    "    text = text.strip()\n",
    "    prefix = prefix.strip()\n",
    "    string = string.replace(' ', '')\n",
    "\n",
    "    length_prefix = len(prefix)\n",
    "    length_string = len(string)\n",
    "\n",
    "    if text[0:length_prefix] == prefix:\n",
    "        text = text[length_prefix:].strip()\n",
    "    \n",
    "    string_in_text = text[0:length_string]\n",
    "\n",
    "    if string_in_text == string:\n",
    "        return text[length_string + 1:].strip()\n",
    "    else:\n",
    "        return text\n",
    "\n",
    "# Identifica se há indicação de ser hatch ou sedan na descrição e trata o nome do modelo de acordo\n",
    "def is_hatch_or_sedan(description, model):\n",
    "    hatch = 'HATCH'\n",
    "    sedan = 'SEDAN'\n",
    "    fastback = 'FASTBACK' # Trata exceção do focus\n",
    "    if description.upper().find(hatch) != -1:\n",
    "        return model + ' ' + hatch\n",
    "    elif description.upper().find(sedan) != -1:\n",
    "        return model + ' ' + sedan\n",
    "    elif description.upper().find(fastback) != -1 and model == 'FOCUS':\n",
    "        return model + ' ' + sedan\n",
    "    else:\n",
    "        return model\n",
    "    \n",
    "# Identifica o tipo de transmissão\n",
    "def label_transmisson(description, names, label):\n",
    "    for name in names:\n",
    "        if description.find(name) != -1:\n",
    "            return label\n",
    "\n",
    "def merge_transmission_cols(label1, label2, label3):\n",
    "    if label1 != None:\n",
    "        return label1\n",
    "    elif label2 != None:\n",
    "        return label2\n",
    "    else:\n",
    "        return label3\n",
    "\n",
    "def write_to_file(file_name, content):\n",
    "    f = open(file_name, 'w+')\n",
    "    for line in content:\n",
    "        f.write(f'{line}\\n')\n",
    "    f.close()"
   ],
   "outputs": [],
   "metadata": {}
  },
  {
   "cell_type": "markdown",
   "source": [
    "# Carregamento da base de dados"
   ],
   "metadata": {}
  },
  {
   "cell_type": "code",
   "execution_count": null,
   "source": [
    "df_full = pd.read_csv('Extração Zoss 30.07.21.csv')\n",
    "df_full.info()"
   ],
   "outputs": [],
   "metadata": {}
  },
  {
   "cell_type": "code",
   "execution_count": null,
   "source": [
    "# Amostragem\n",
    "df = df_full\n",
    "# df = df_full.head(1000)\n",
    "# df = df_full.sample(1000)"
   ],
   "outputs": [],
   "metadata": {}
  },
  {
   "cell_type": "markdown",
   "source": [
    "# Eliminação de qualquer linha com algum valor menor do que zero"
   ],
   "metadata": {}
  },
  {
   "cell_type": "code",
   "execution_count": null,
   "source": [
    "df = df[df.select_dtypes(include=[np.number]).ge(0).all(1)]"
   ],
   "outputs": [],
   "metadata": {}
  },
  {
   "cell_type": "markdown",
   "source": [
    "# Tratamento da coluna Modelo\n",
    "* Foi identificado que há duplicidade com o HB20S, tendo ocorrências como 'HB20S' e 'HB20 S'\n",
    "* O Onix Joy está identificado como Joy apenas"
   ],
   "metadata": {}
  },
  {
   "cell_type": "code",
   "execution_count": null,
   "source": [
    "# Correção da identificação do HB20S\n",
    "df.replace('HB20 S', 'HB20S', inplace=True)"
   ],
   "outputs": [],
   "metadata": {}
  },
  {
   "cell_type": "code",
   "execution_count": null,
   "source": [
    "# Corrige a identificação do Onix Joy\n",
    "df['DescricaoSite'] = df['DescricaoSite'].apply(lambda row: 'JOY ' + row if row == 'JOY' else row)\n",
    "df['Modelo'].replace('JOY', 'ONIX', inplace=True)"
   ],
   "outputs": [],
   "metadata": {}
  },
  {
   "cell_type": "markdown",
   "source": [
    "# Tratamento da coluna de descrição\n",
    "* Algumas entradas possuiam o nome do modelo do carro repetido\n",
    "* Alguns nome de modelo tinham o prefixo 'NEW' e este foi desconsiderado"
   ],
   "metadata": {}
  },
  {
   "cell_type": "code",
   "execution_count": null,
   "source": [
    "# Retira o modelo da descrição\n",
    "df['Descricao'] = df.apply(lambda row: strip_string_with_prefix_from_text(row['DescricaoSite'], 'NEW ', row['Modelo']), axis=1)\n",
    "\n",
    "print(df.shape)\n",
    "df.head()"
   ],
   "outputs": [],
   "metadata": {}
  },
  {
   "cell_type": "markdown",
   "source": [
    "# Identificação das características dos modelos\n",
    "* Alguns modelos possuem diferenciação entre hatch e sedan\n",
    "* Volume do motor\n",
    "* Tipo de transmissão\n",
    "* Diesel ou não"
   ],
   "metadata": {}
  },
  {
   "cell_type": "code",
   "execution_count": null,
   "source": [
    "# Identifica se é hatch ou sedan pela descrição\n",
    "df['Modelo'] = df.apply(lambda row: is_hatch_or_sedan(row['DescricaoSite'], row['Modelo']), axis=1)"
   ],
   "outputs": [],
   "metadata": {}
  },
  {
   "cell_type": "code",
   "execution_count": null,
   "source": [
    "# Identifica como hatch os que tem versão sedan e não são sedan\n",
    "models = list(pd.Series(df['Modelo'].unique()).values)\n",
    "for model in models:\n",
    "    if model + ' SEDAN' in models:\n",
    "        df['Modelo'].replace(model, model + ' HATCH', inplace=True)"
   ],
   "outputs": [],
   "metadata": {}
  },
  {
   "cell_type": "code",
   "execution_count": null,
   "source": [
    "# Retira a identificação de hatch dos que não tem versão sedan\n",
    "models = list(pd.Series(df['Modelo'].unique()).values)\n",
    "for model in models:\n",
    "    model_unhatched = model.replace(' HATCH', '')\n",
    "    if (' HATCH' in model) & (model_unhatched + ' SEDAN' not in models):\n",
    "        df['Modelo'].replace(model, model_unhatched, inplace=True)"
   ],
   "outputs": [],
   "metadata": {}
  },
  {
   "cell_type": "code",
   "execution_count": null,
   "source": [
    "# Identificação do volume do motor\n",
    "df['VolumeMotor'] = df.apply(lambda row: row['Descricao'][row['Descricao'].find('.') - 1 : row['Descricao'].find('.') + 2], axis=1)\n",
    "df['VolumeMotor'].replace(r'', 'Eletrico', inplace=True)"
   ],
   "outputs": [],
   "metadata": {}
  },
  {
   "cell_type": "code",
   "execution_count": null,
   "source": [
    "# Identifica o tipo de transmissão\n",
    "good_automatics = ['AUTOMATICO','DIRECT SHIFT', '4MOTION DSG', 'GEARTRONIC', 'MULTIDRIVE', '9G-TRONIC', 'X-TRONIC', \n",
    "                   'S TRONIC','S-TRONIC', '7G-DCT', '4MATIC', 'AT6', 'AT9', 'CVT', 'DCT', 'DSG']\n",
    "                   \n",
    "bad_automatics = ['AUTOMATIZADO', 'POWERSHIFT', 'TIPTRONIC', 'I-MOTION', 'EASY-R']\n",
    "\n",
    "df['TransmissaoATBoa'] = df.apply(lambda row: label_transmisson(row['Descricao'], good_automatics, 'AUTOMATICO BOM'), axis=1)\n",
    "df['TransmissaoATRuim'] = df.apply(lambda row: label_transmisson(row['Descricao'], bad_automatics, 'AUTOMATICO RUIM'), axis=1)\n",
    "df['Trasmissao'] = df.apply(lambda row: merge_transmission_cols(row['TransmissaoATBoa'], row['TransmissaoATRuim'], 'MANUAL'), axis=1)\n",
    "df.drop(['TransmissaoATBoa'], axis=1, inplace=True)\n",
    "df.drop(['TransmissaoATRuim'], axis=1, inplace=True)"
   ],
   "outputs": [],
   "metadata": {}
  },
  {
   "cell_type": "code",
   "execution_count": null,
   "source": [
    "# Identificação se o motor é Diesel ou não\n",
    "df['Combustivel'] = df['Descricao'].apply(lambda row: 'DIESEL' if 'DIESEL' in row.upper()\n",
    "                                                else ('ELETRICO' if 'ELETRICO' in row.upper()\n",
    "                                                else  'OUTRO'))"
   ],
   "outputs": [],
   "metadata": {}
  },
  {
   "cell_type": "markdown",
   "source": [
    "# Adequação dos dados ao uso"
   ],
   "metadata": {}
  },
  {
   "cell_type": "code",
   "execution_count": null,
   "source": [
    "# Eliminação das colunas que não serão usadas\n",
    "df.drop(['CodigoFipe'], axis=1, inplace=True)\n",
    "df.drop(['RegraKM'], axis=1, inplace=True)\n",
    "df.drop(['DescricaoSite'], axis=1, inplace=True)\n",
    "df.drop(['IdAnuncio'], axis=1, inplace=True)\n",
    "df.drop(['DATA'], axis=1, inplace=True) #Todas as datas são iguais\n",
    "df.drop(['LinkAnuncio'], axis=1, inplace=True)"
   ],
   "outputs": [],
   "metadata": {}
  },
  {
   "cell_type": "markdown",
   "source": [
    "# Visualização e armazenamento da base tratada"
   ],
   "metadata": {}
  },
  {
   "cell_type": "code",
   "execution_count": null,
   "source": [
    "print(df.shape)\n",
    "df.head()"
   ],
   "outputs": [],
   "metadata": {}
  },
  {
   "cell_type": "code",
   "execution_count": null,
   "source": [
    "# Salva arquivo com a base tratada\n",
    "df.to_csv('base_tratada.csv')"
   ],
   "outputs": [],
   "metadata": {}
  }
 ],
 "metadata": {
  "orig_nbformat": 4,
  "language_info": {
   "name": "python",
   "version": "3.9.5",
   "mimetype": "text/x-python",
   "codemirror_mode": {
    "name": "ipython",
    "version": 3
   },
   "pygments_lexer": "ipython3",
   "nbconvert_exporter": "python",
   "file_extension": ".py"
  },
  "kernelspec": {
   "name": "python3",
   "display_name": "Python 3.9.5 64-bit ('analise_zoss': venv)"
  },
  "interpreter": {
   "hash": "9333fffd9b848a4de889d02378e4fe7d43ee0a4627285f4d278c2888916c3136"
  }
 },
 "nbformat": 4,
 "nbformat_minor": 2
}